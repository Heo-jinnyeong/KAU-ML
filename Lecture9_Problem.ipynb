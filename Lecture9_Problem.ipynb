{
 "cells": [
  {
   "cell_type": "markdown",
   "id": "b71f7385",
   "metadata": {},
   "source": [
    "# Multi-Layer Perceptron with CIFAR10 classification "
   ]
  },
  {
   "cell_type": "markdown",
   "id": "1705e140",
   "metadata": {},
   "source": [
    "## 1. Module Import"
   ]
  },
  {
   "cell_type": "code",
   "execution_count": 1,
   "id": "a0643ab9",
   "metadata": {},
   "outputs": [],
   "source": [
    "import numpy as np\n",
    "import matplotlib.pyplot as plt\n",
    "\n",
    "import torch\n",
    "from torchvision import datasets\n",
    "import torchvision.transforms as transforms\n",
    "\n",
    "import torch.optim as optim\n",
    "\n",
    "import ssl\n",
    "ssl._create_default_https_context = ssl._create_unverified_context"
   ]
  },
  {
   "cell_type": "markdown",
   "id": "615e50e2",
   "metadata": {},
   "source": [
    "## 2. 딥러닝 모델을 설계할 때 활용하는 장비 확인"
   ]
  },
  {
   "cell_type": "code",
   "execution_count": 2,
   "id": "063e666e",
   "metadata": {},
   "outputs": [
    {
     "name": "stdout",
     "output_type": "stream",
     "text": [
      "Using PyTorch version: 1.11.0  Device: cpu\n"
     ]
    }
   ],
   "source": [
    "if torch.cuda.is_available():\n",
    "    device = torch.device('cuda')\n",
    "else:\n",
    "    device = torch.device('cpu')\n",
    "\n",
    "print('Using PyTorch version:', torch.__version__, ' Device:', device)"
   ]
  },
  {
   "cell_type": "markdown",
   "id": "534d3122",
   "metadata": {},
   "source": [
    "## 3. CIFAR10 Data Normalization and Augmentation"
   ]
  },
  {
   "cell_type": "code",
   "execution_count": 3,
   "id": "9beb8a68",
   "metadata": {},
   "outputs": [
    {
     "name": "stdout",
     "output_type": "stream",
     "text": [
      "Files already downloaded and verified\n",
      "Files already downloaded and verified\n"
     ]
    }
   ],
   "source": [
    "train_data = datasets.CIFAR10('data', train=True, download=True, transform=transforms.ToTensor())\n",
    "test_data = datasets.CIFAR10('data', train=False, download=True, transform=transforms.ToTensor())"
   ]
  },
  {
   "cell_type": "markdown",
   "id": "f60a63b3",
   "metadata": {},
   "source": [
    "문제) 학습 데이터(training data)의 색상별 평균과 표준 편차를 구하자."
   ]
  },
  {
   "cell_type": "code",
   "execution_count": 4,
   "id": "1843419e",
   "metadata": {},
   "outputs": [],
   "source": [
    "shape=train_data.data.shape\n",
    "mean=train_data.data.mean(axis=(0, 1, 2)) / 255\n",
    "std=train_data.data.std(axis=(0,1,2))/255"
   ]
  },
  {
   "cell_type": "code",
   "execution_count": 5,
   "id": "43b15adb",
   "metadata": {},
   "outputs": [
    {
     "name": "stdout",
     "output_type": "stream",
     "text": [
      "(50000, 32, 32, 3)\n",
      "[0.49139968 0.48215841 0.44653091]\n",
      "[0.24703223 0.24348513 0.26158784]\n"
     ]
    }
   ],
   "source": [
    "print(shape)\n",
    "print(mean)\n",
    "print(std)"
   ]
  },
  {
   "cell_type": "markdown",
   "id": "ae8ac98c",
   "metadata": {},
   "source": [
    "문제) 위 내용을 반영하여 데이터를 Normalize 하고 랜덤하게 좌우반전 및 흑백 사진으로 바꾸자."
   ]
  },
  {
   "cell_type": "code",
   "execution_count": 6,
   "id": "ac88dac6",
   "metadata": {},
   "outputs": [
    {
     "name": "stdout",
     "output_type": "stream",
     "text": [
      "Files already downloaded and verified\n",
      "Files already downloaded and verified\n"
     ]
    }
   ],
   "source": [
    "transform = transforms.Compose(\n",
    "    [\n",
    "    transforms.ToTensor(),\n",
    "        transforms.Normalize(mean,std),\n",
    "        transforms.RandomHorizontalFlip(p = 1),\n",
    "        transforms.Grayscale(num_output_channels=3)\n",
    "    ])\n",
    "\n",
    "train_data = datasets.CIFAR10('data', train=True, download=True, transform=transform)\n",
    "test_data = datasets.CIFAR10('data', train=False, download=True, transform=transform)"
   ]
  },
  {
   "cell_type": "markdown",
   "id": "2cf7dfdd",
   "metadata": {},
   "source": [
    "완성된 dataset.CIFAR10 객체를 train_loader에 넣는다."
   ]
  },
  {
   "cell_type": "code",
   "execution_count": 7,
   "id": "d034ffb2",
   "metadata": {},
   "outputs": [],
   "source": [
    "BATCH_SIZE = 32\n",
    "\n",
    "train_loader = torch.utils.data.DataLoader(dataset=train_data, batch_size=BATCH_SIZE, shuffle=False)\n",
    "test_loader = torch.utils.data.DataLoader(dataset=test_data, batch_size=BATCH_SIZE, shuffle=False)    "
   ]
  },
  {
   "cell_type": "markdown",
   "id": "57ebcf43",
   "metadata": {},
   "source": [
    "아래의 코드를 여러번 돌려, 실제로 좌우반전 및 흑백사진으로 변하는지 확인하자."
   ]
  },
  {
   "cell_type": "code",
   "execution_count": 8,
   "id": "5d5527e0",
   "metadata": {},
   "outputs": [
    {
     "name": "stderr",
     "output_type": "stream",
     "text": [
      "Clipping input data to the valid range for imshow with RGB data ([0..1] for floats or [0..255] for integers).\n"
     ]
    },
    {
     "data": {
      "image/png": "[encoded data removed]",
      "text/plain": [
       "<Figure size 432x288 with 1 Axes>"
      ]
     },
     "metadata": {
      "needs_background": "light"
     },
     "output_type": "display_data"
    }
   ],
   "source": [
    "for (X_train, y_train) in train_loader:\n",
    "    plt.imshow(X_train[0].permute(1,2,0).numpy())\n",
    "    plt.show()\n",
    "    break"
   ]
  },
  {
   "cell_type": "markdown",
   "id": "437ffb80",
   "metadata": {},
   "source": [
    "## 4. torch.nn을 이용하여 모델-1 만들기\n",
    "\n",
    "   1) input layer (입력층), hidden layer (은닉층), output layer (출력층) 으로 이루어진 모델을 이용\n",
    "\n",
    "   2) 하나의 hidden layer (은닉층)만 이용 - 은닉층의 개수는 100개로 하세요\n",
    "   \n",
    "   3) nn.Module을 상속 받아 만들 것!\n",
    "   \n",
    "   4) nn.Linear와 nn.ReLU를 사용할 것!\n",
    "   \n",
    "   5) Batch Normalization 을 사용할 것"
   ]
  },
  {
   "cell_type": "code",
   "execution_count": 9,
   "id": "defacffb",
   "metadata": {},
   "outputs": [],
   "source": [
    "import torch.nn as nn\n",
    "\n",
    "class Model_1(nn.Module):\n",
    "    def __init__(self):\n",
    "        super(Model_1, self).__init__()\n",
    "        self.fc1 = nn.Linear(3072,100)\n",
    "        self.bn1 = nn.BatchNorm1d(100)\n",
    "        self.fc2 = nn.Linear(100,10)\n",
    "        self.relu = nn.ReLU()\n",
    "    def forward(self,x):\n",
    "        x = self.fc1(x)\n",
    "        x = self.bn1(x)\n",
    "        x = self.relu(x)\n",
    "        x = self.fc2(x)\n",
    "        return x"
   ]
  },
  {
   "cell_type": "markdown",
   "id": "3e26eed9",
   "metadata": {},
   "source": [
    "## 5. torch.nn을 이용하여 모델-2 만들기\n",
    "\n",
    "   1) input layer (입력층), hidden layer (은닉층), output layer (출력층) 으로 이루어진 모델을 이용\n",
    "\n",
    "   2) 하나의 hidden layer (은닉층)만 이용 - 은닉층의 개수는 100개로 하세요\n",
    "   \n",
    "   3) nn.Module을 상속 받아 만들 것!\n",
    "   \n",
    "   4) nn.Linear와 nn.ReLU를 사용할 것!\n",
    "   \n",
    "   5) Dropout을 확률을 50%로 사용할 것 - BN는 사용하지 말것!"
   ]
  },
  {
   "cell_type": "code",
   "execution_count": 10,
   "id": "27ac70af",
   "metadata": {},
   "outputs": [],
   "source": [
    "class Model_2(nn.Module):\n",
    "    def __init__(self):\n",
    "        super(Model_2, self).__init__()\n",
    "        self.fc1 = nn.Linear(3072,100)\n",
    "        self.fc2 = nn.Linear(100,10)\n",
    "        self.relu = nn.ReLU()\n",
    "        self.dropout = nn.Dropout(0.5)\n",
    "    def forward(self,x):\n",
    "        x = self.fc1(x)\n",
    "        x = self.dropout(x)\n",
    "        x = self.relu(x)\n",
    "        x = self.dropout(x)\n",
    "        x = self.fc2(x)\n",
    "        return x"
   ]
  },
  {
   "cell_type": "markdown",
   "id": "de556825",
   "metadata": {},
   "source": [
    "## 7. 학습 준비하기\n",
    "\n",
    "1) 1 epoch를 학습할 수 있는 함수 만들기\n",
    "\n",
    "2) 1 테스트 데이터의 정확도 계산할 수 있는 함수 만들기"
   ]
  },
  {
   "cell_type": "code",
   "execution_count": 11,
   "id": "06030b48",
   "metadata": {},
   "outputs": [],
   "source": [
    "def training_epoch(train_loader, network, loss_func, optimizer, epoch):\n",
    "    train_losses = []\n",
    "    train_correct = 0\n",
    "    log_interval = 500\n",
    "    \n",
    "    for batch_idx, (image, label) in enumerate(train_loader):\n",
    "        # 미분값의 초기화\n",
    "        optimizer.zero_grad()\n",
    "\n",
    "        # 이미지를 (batch_size, -1) 차원의 메트릭스로 만드세요\n",
    "        batch_size = image.size()[0]\n",
    "        image = image.view(-1, 32 * 32 * 3)\n",
    "\n",
    "        # Forward propagration 계산하기.\n",
    "        outputs = network(image)\n",
    "        \n",
    "        \n",
    "        # loss_func 함수를 적용하여 loss를 구하고 저장하기\n",
    "        loss = loss_func(outputs, label)\n",
    "        train_losses.append(loss.item())\n",
    "\n",
    "        # training accuracy 정확도 구하기 위해 맞는 샘플 개수 세기\n",
    "        pred = torch.max(outputs,1)[1]\n",
    "        train_correct += pred.eq(label).sum()\n",
    "\n",
    "        # Gradinet 구하기\n",
    "        loss.backward()\n",
    "\n",
    "        # weight값 update 하기\n",
    "        optimizer.step()\n",
    "\n",
    "        # 학습 상황 출력\n",
    "        if batch_idx % log_interval == 0:\n",
    "            print('Train Epoch: {} [{}/{} ({:.0f}%)]\\tLoss: {:.6f}'\n",
    "                  .format(epoch, batch_idx * len(label), len(train_loader.dataset),100. * batch_idx / len(train_loader),\n",
    "                          loss.item()))\n",
    "            \n",
    "    return train_losses, train_correct"
   ]
  },
  {
   "cell_type": "code",
   "execution_count": 12,
   "id": "d3c0dcf9",
   "metadata": {},
   "outputs": [],
   "source": [
    "def test_epoch(test_loader, network, loss_func):\n",
    "    correct = 0\n",
    "    \n",
    "    test_losses = []\n",
    "    \n",
    "    with torch.no_grad():\n",
    "        for batch_idx, (image, label) in enumerate(test_loader):\n",
    "            batch_size = image.size()[0]\n",
    "            image = image.view(-1, 32 * 32 * 3)\n",
    "\n",
    "            # Forward propagration 계산하기.\n",
    "            outputs = network(image)\n",
    "\n",
    "            # loss_func 함수를 적용하여 loss를 구하고 저장하기\n",
    "            loss = loss_func(outputs, label)\n",
    "            test_losses.append(loss.item())\n",
    "\n",
    "            # Batch 별로 정확도 구하기\n",
    "            pred = torch.max(outputs,1)[1]\n",
    "            correct += pred.eq(label).sum()\n",
    "\n",
    "        # 전체 정확도 구하기\n",
    "        test_accuracy = 100. * correct / len(test_loader.dataset)\n",
    "\n",
    "        #중간결과 출력\n",
    "        print('Test set: Accuracy: {}/{} ({:.0f}%)\\n'\n",
    "              .format(correct, len(test_loader.dataset),100. * correct / len(test_loader.dataset)))\n",
    "    return test_losses, test_accuracy\n"
   ]
  },
  {
   "cell_type": "markdown",
   "id": "88d73c53",
   "metadata": {},
   "source": [
    "## 7. 위 정의된 함수로 학습 함수 만들기\n",
    "\n",
    "1. SGD Optimizer를 사용하고\n",
    "\n",
    "2. Regularizer 를 사용하여 (weight_decay = 0.01로 사용할 것)\n",
    "\n",
    "학습시키기"
   ]
  },
  {
   "cell_type": "code",
   "execution_count": 13,
   "id": "df29783f",
   "metadata": {},
   "outputs": [],
   "source": [
    "def training(network, learning_rate = 0.01):\n",
    "    \n",
    "#     learning_rate = 0.01\n",
    "    epoches = 20\n",
    "    \n",
    "    cls_loss = nn.CrossEntropyLoss()\n",
    "    optimizer = optim.SGD(network.parameters(), lr = learning_rate, weight_decay=0.01)\n",
    "    \n",
    "    train_losses_per_epoch = []\n",
    "    test_losses_per_epoch = []\n",
    "    \n",
    "    train_accuracies = []\n",
    "    test_accuracies = []\n",
    "    \n",
    "    \n",
    "    for epoch in range(epoches):\n",
    "                \n",
    "        # 모델를 학습 중이라고 선언하기\n",
    "        network.train()\n",
    "        \n",
    "        train_losses, train_correct = training_epoch(train_loader,network,cls_loss,optimizer, epoch)\n",
    "        \n",
    "        # epoch 별로 loss 평균값, 정확도 구하기\n",
    "        average_loss = np.mean(train_losses)\n",
    "        train_losses_per_epoch.append(average_loss)\n",
    "        \n",
    "        train_accuracy = train_correct / len(train_loader.dataset) * 100\n",
    "        train_accuracies.append(train_accuracy)\n",
    "        \n",
    "        # epoch 별로 정확도 출력\n",
    "        print('\\nTraining set: Accuracy: {}/{} ({:.0f}%)'\n",
    "              .format(train_correct, len(train_loader.dataset),100. * train_correct / len(train_loader.dataset)))\n",
    "\n",
    "        \n",
    "        ### 학습 중에 test 결과 보기\n",
    "        \n",
    "        # 모델 test 중인 것을 선언하기\n",
    "        network.eval()\n",
    "        \n",
    "        correct = 0\n",
    "        with torch.no_grad():\n",
    "            test_losses, test_accuracy = test_epoch(test_loader, network, cls_loss)\n",
    "\n",
    "        test_losses_per_epoch.append(np.mean(test_losses))\n",
    "        test_accuracies.append(test_accuracy)\n",
    "        \n",
    "    return train_losses_per_epoch, test_losses_per_epoch, train_accuracies, test_accuracies\n"
   ]
  },
  {
   "cell_type": "code",
   "execution_count": 14,
   "id": "e1394321",
   "metadata": {},
   "outputs": [
    {
     "name": "stdout",
     "output_type": "stream",
     "text": [
      "Train Epoch: 0 [0/50000 (0%)]\tLoss: 2.357875\n",
      "Train Epoch: 0 [16000/50000 (32%)]\tLoss: 2.099786\n",
      "Train Epoch: 0 [32000/50000 (64%)]\tLoss: 2.067002\n",
      "Train Epoch: 0 [48000/50000 (96%)]\tLoss: 1.990062\n",
      "\n",
      "Training set: Accuracy: 15526/50000 (31%)\n",
      "Test set: Accuracy: 3532/10000 (35%)\n",
      "\n",
      "Train Epoch: 1 [0/50000 (0%)]\tLoss: 1.980259\n",
      "Train Epoch: 1 [16000/50000 (32%)]\tLoss: 1.961461\n",
      "Train Epoch: 1 [32000/50000 (64%)]\tLoss: 2.031365\n",
      "Train Epoch: 1 [48000/50000 (96%)]\tLoss: 1.953790\n",
      "\n",
      "Training set: Accuracy: 17766/50000 (36%)\n",
      "Test set: Accuracy: 3720/10000 (37%)\n",
      "\n",
      "Train Epoch: 2 [0/50000 (0%)]\tLoss: 1.916901\n",
      "Train Epoch: 2 [16000/50000 (32%)]\tLoss: 1.919360\n",
      "Train Epoch: 2 [32000/50000 (64%)]\tLoss: 2.009246\n",
      "Train Epoch: 2 [48000/50000 (96%)]\tLoss: 1.920687\n",
      "\n",
      "Training set: Accuracy: 18656/50000 (37%)\n",
      "Test set: Accuracy: 3828/10000 (38%)\n",
      "\n",
      "Train Epoch: 3 [0/50000 (0%)]\tLoss: 1.884096\n",
      "Train Epoch: 3 [16000/50000 (32%)]\tLoss: 1.901782\n",
      "Train Epoch: 3 [32000/50000 (64%)]\tLoss: 1.980746\n",
      "Train Epoch: 3 [48000/50000 (96%)]\tLoss: 1.891346\n",
      "\n",
      "Training set: Accuracy: 19182/50000 (38%)\n",
      "Test set: Accuracy: 3895/10000 (39%)\n",
      "\n",
      "Train Epoch: 4 [0/50000 (0%)]\tLoss: 1.864910\n",
      "Train Epoch: 4 [16000/50000 (32%)]\tLoss: 1.893566\n",
      "Train Epoch: 4 [32000/50000 (64%)]\tLoss: 1.955065\n",
      "Train Epoch: 4 [48000/50000 (96%)]\tLoss: 1.873228\n",
      "\n",
      "Training set: Accuracy: 19549/50000 (39%)\n",
      "Test set: Accuracy: 3956/10000 (40%)\n",
      "\n",
      "Train Epoch: 5 [0/50000 (0%)]\tLoss: 1.850206\n",
      "Train Epoch: 5 [16000/50000 (32%)]\tLoss: 1.881382\n",
      "Train Epoch: 5 [32000/50000 (64%)]\tLoss: 1.940405\n",
      "Train Epoch: 5 [48000/50000 (96%)]\tLoss: 1.868057\n",
      "\n",
      "Training set: Accuracy: 19780/50000 (40%)\n",
      "Test set: Accuracy: 3956/10000 (40%)\n",
      "\n",
      "Train Epoch: 6 [0/50000 (0%)]\tLoss: 1.846337\n",
      "Train Epoch: 6 [16000/50000 (32%)]\tLoss: 1.875292\n",
      "Train Epoch: 6 [32000/50000 (64%)]\tLoss: 1.942267\n",
      "Train Epoch: 6 [48000/50000 (96%)]\tLoss: 1.859805\n",
      "\n",
      "Training set: Accuracy: 19974/50000 (40%)\n",
      "Test set: Accuracy: 3992/10000 (40%)\n",
      "\n",
      "Train Epoch: 7 [0/50000 (0%)]\tLoss: 1.834819\n",
      "Train Epoch: 7 [16000/50000 (32%)]\tLoss: 1.864208\n",
      "Train Epoch: 7 [32000/50000 (64%)]\tLoss: 1.948523\n",
      "Train Epoch: 7 [48000/50000 (96%)]\tLoss: 1.842615\n",
      "\n",
      "Training set: Accuracy: 20144/50000 (40%)\n",
      "Test set: Accuracy: 3996/10000 (40%)\n",
      "\n",
      "Train Epoch: 8 [0/50000 (0%)]\tLoss: 1.826223\n",
      "Train Epoch: 8 [16000/50000 (32%)]\tLoss: 1.855342\n",
      "Train Epoch: 8 [32000/50000 (64%)]\tLoss: 1.946928\n",
      "Train Epoch: 8 [48000/50000 (96%)]\tLoss: 1.845641\n",
      "\n",
      "Training set: Accuracy: 20253/50000 (41%)\n",
      "Test set: Accuracy: 4011/10000 (40%)\n",
      "\n",
      "Train Epoch: 9 [0/50000 (0%)]\tLoss: 1.827219\n",
      "Train Epoch: 9 [16000/50000 (32%)]\tLoss: 1.847737\n",
      "Train Epoch: 9 [32000/50000 (64%)]\tLoss: 1.934483\n",
      "Train Epoch: 9 [48000/50000 (96%)]\tLoss: 1.838566\n",
      "\n",
      "Training set: Accuracy: 20350/50000 (41%)\n",
      "Test set: Accuracy: 4010/10000 (40%)\n",
      "\n",
      "Train Epoch: 10 [0/50000 (0%)]\tLoss: 1.820986\n",
      "Train Epoch: 10 [16000/50000 (32%)]\tLoss: 1.842578\n",
      "Train Epoch: 10 [32000/50000 (64%)]\tLoss: 1.937589\n",
      "Train Epoch: 10 [48000/50000 (96%)]\tLoss: 1.833799\n",
      "\n",
      "Training set: Accuracy: 20451/50000 (41%)\n",
      "Test set: Accuracy: 4011/10000 (40%)\n",
      "\n",
      "Train Epoch: 11 [0/50000 (0%)]\tLoss: 1.808214\n",
      "Train Epoch: 11 [16000/50000 (32%)]\tLoss: 1.835098\n",
      "Train Epoch: 11 [32000/50000 (64%)]\tLoss: 1.932662\n",
      "Train Epoch: 11 [48000/50000 (96%)]\tLoss: 1.825006\n",
      "\n",
      "Training set: Accuracy: 20514/50000 (41%)\n",
      "Test set: Accuracy: 4028/10000 (40%)\n",
      "\n",
      "Train Epoch: 12 [0/50000 (0%)]\tLoss: 1.804083\n",
      "Train Epoch: 12 [16000/50000 (32%)]\tLoss: 1.823172\n",
      "Train Epoch: 12 [32000/50000 (64%)]\tLoss: 1.929347\n",
      "Train Epoch: 12 [48000/50000 (96%)]\tLoss: 1.827347\n",
      "\n",
      "Training set: Accuracy: 20563/50000 (41%)\n",
      "Test set: Accuracy: 4014/10000 (40%)\n",
      "\n",
      "Train Epoch: 13 [0/50000 (0%)]\tLoss: 1.800578\n",
      "Train Epoch: 13 [16000/50000 (32%)]\tLoss: 1.819256\n",
      "Train Epoch: 13 [32000/50000 (64%)]\tLoss: 1.926775\n",
      "Train Epoch: 13 [48000/50000 (96%)]\tLoss: 1.824011\n",
      "\n",
      "Training set: Accuracy: 20626/50000 (41%)\n",
      "Test set: Accuracy: 4026/10000 (40%)\n",
      "\n",
      "Train Epoch: 14 [0/50000 (0%)]\tLoss: 1.793965\n",
      "Train Epoch: 14 [16000/50000 (32%)]\tLoss: 1.819010\n",
      "Train Epoch: 14 [32000/50000 (64%)]\tLoss: 1.916940\n",
      "Train Epoch: 14 [48000/50000 (96%)]\tLoss: 1.819490\n",
      "\n",
      "Training set: Accuracy: 20654/50000 (41%)\n",
      "Test set: Accuracy: 4026/10000 (40%)\n",
      "\n",
      "Train Epoch: 15 [0/50000 (0%)]\tLoss: 1.789582\n",
      "Train Epoch: 15 [16000/50000 (32%)]\tLoss: 1.813952\n",
      "Train Epoch: 15 [32000/50000 (64%)]\tLoss: 1.907929\n",
      "Train Epoch: 15 [48000/50000 (96%)]\tLoss: 1.816581\n",
      "\n",
      "Training set: Accuracy: 20711/50000 (41%)\n",
      "Test set: Accuracy: 4024/10000 (40%)\n",
      "\n",
      "Train Epoch: 16 [0/50000 (0%)]\tLoss: 1.786741\n",
      "Train Epoch: 16 [16000/50000 (32%)]\tLoss: 1.808966\n",
      "Train Epoch: 16 [32000/50000 (64%)]\tLoss: 1.914166\n",
      "Train Epoch: 16 [48000/50000 (96%)]\tLoss: 1.816621\n",
      "\n",
      "Training set: Accuracy: 20786/50000 (42%)\n",
      "Test set: Accuracy: 4008/10000 (40%)\n",
      "\n",
      "Train Epoch: 17 [0/50000 (0%)]\tLoss: 1.777101\n",
      "Train Epoch: 17 [16000/50000 (32%)]\tLoss: 1.802755\n",
      "Train Epoch: 17 [32000/50000 (64%)]\tLoss: 1.905608\n",
      "Train Epoch: 17 [48000/50000 (96%)]\tLoss: 1.812894\n",
      "\n",
      "Training set: Accuracy: 20822/50000 (42%)\n",
      "Test set: Accuracy: 4021/10000 (40%)\n",
      "\n",
      "Train Epoch: 18 [0/50000 (0%)]\tLoss: 1.776951\n",
      "Train Epoch: 18 [16000/50000 (32%)]\tLoss: 1.803097\n",
      "Train Epoch: 18 [32000/50000 (64%)]\tLoss: 1.905558\n",
      "Train Epoch: 18 [48000/50000 (96%)]\tLoss: 1.814149\n",
      "\n",
      "Training set: Accuracy: 20856/50000 (42%)\n",
      "Test set: Accuracy: 4019/10000 (40%)\n",
      "\n",
      "Train Epoch: 19 [0/50000 (0%)]\tLoss: 1.770083\n",
      "Train Epoch: 19 [16000/50000 (32%)]\tLoss: 1.793062\n",
      "Train Epoch: 19 [32000/50000 (64%)]\tLoss: 1.904245\n",
      "Train Epoch: 19 [48000/50000 (96%)]\tLoss: 1.808658\n",
      "\n",
      "Training set: Accuracy: 20912/50000 (42%)\n",
      "Test set: Accuracy: 4013/10000 (40%)\n",
      "\n"
     ]
    }
   ],
   "source": [
    "network = Model_1()\n",
    "rlt_const = training(network)"
   ]
  },
  {
   "cell_type": "code",
   "execution_count": 15,
   "id": "2b3bb3ed",
   "metadata": {},
   "outputs": [
    {
     "name": "stdout",
     "output_type": "stream",
     "text": [
      "Train Epoch: 0 [0/50000 (0%)]\tLoss: 2.400489\n",
      "Train Epoch: 0 [16000/50000 (32%)]\tLoss: 2.349043\n",
      "Train Epoch: 0 [32000/50000 (64%)]\tLoss: 2.105773\n",
      "Train Epoch: 0 [48000/50000 (96%)]\tLoss: 2.069878\n",
      "\n",
      "Training set: Accuracy: 11622/50000 (23%)\n",
      "Test set: Accuracy: 3160/10000 (32%)\n",
      "\n",
      "Train Epoch: 1 [0/50000 (0%)]\tLoss: 2.075567\n",
      "Train Epoch: 1 [16000/50000 (32%)]\tLoss: 2.189974\n",
      "Train Epoch: 1 [32000/50000 (64%)]\tLoss: 2.101056\n",
      "Train Epoch: 1 [48000/50000 (96%)]\tLoss: 1.946348\n",
      "\n",
      "Training set: Accuracy: 13126/50000 (26%)\n",
      "Test set: Accuracy: 3247/10000 (32%)\n",
      "\n",
      "Train Epoch: 2 [0/50000 (0%)]\tLoss: 2.044612\n",
      "Train Epoch: 2 [16000/50000 (32%)]\tLoss: 2.223162\n",
      "Train Epoch: 2 [32000/50000 (64%)]\tLoss: 2.150349\n",
      "Train Epoch: 2 [48000/50000 (96%)]\tLoss: 2.038440\n",
      "\n",
      "Training set: Accuracy: 13536/50000 (27%)\n",
      "Test set: Accuracy: 3454/10000 (35%)\n",
      "\n",
      "Train Epoch: 3 [0/50000 (0%)]\tLoss: 2.091355\n",
      "Train Epoch: 3 [16000/50000 (32%)]\tLoss: 2.120234\n",
      "Train Epoch: 3 [32000/50000 (64%)]\tLoss: 2.062871\n",
      "Train Epoch: 3 [48000/50000 (96%)]\tLoss: 2.030757\n",
      "\n",
      "Training set: Accuracy: 13688/50000 (27%)\n",
      "Test set: Accuracy: 3441/10000 (34%)\n",
      "\n",
      "Train Epoch: 4 [0/50000 (0%)]\tLoss: 2.092655\n",
      "Train Epoch: 4 [16000/50000 (32%)]\tLoss: 2.210451\n",
      "Train Epoch: 4 [32000/50000 (64%)]\tLoss: 2.203870\n",
      "Train Epoch: 4 [48000/50000 (96%)]\tLoss: 1.917672\n",
      "\n",
      "Training set: Accuracy: 13859/50000 (28%)\n",
      "Test set: Accuracy: 3526/10000 (35%)\n",
      "\n",
      "Train Epoch: 5 [0/50000 (0%)]\tLoss: 2.111043\n",
      "Train Epoch: 5 [16000/50000 (32%)]\tLoss: 2.035187\n",
      "Train Epoch: 5 [32000/50000 (64%)]\tLoss: 1.953055\n",
      "Train Epoch: 5 [48000/50000 (96%)]\tLoss: 2.083983\n",
      "\n",
      "Training set: Accuracy: 13895/50000 (28%)\n",
      "Test set: Accuracy: 3554/10000 (36%)\n",
      "\n",
      "Train Epoch: 6 [0/50000 (0%)]\tLoss: 2.004804\n",
      "Train Epoch: 6 [16000/50000 (32%)]\tLoss: 2.047753\n",
      "Train Epoch: 6 [32000/50000 (64%)]\tLoss: 2.098519\n",
      "Train Epoch: 6 [48000/50000 (96%)]\tLoss: 2.067030\n",
      "\n",
      "Training set: Accuracy: 14261/50000 (29%)\n",
      "Test set: Accuracy: 3560/10000 (36%)\n",
      "\n",
      "Train Epoch: 7 [0/50000 (0%)]\tLoss: 2.050656\n",
      "Train Epoch: 7 [16000/50000 (32%)]\tLoss: 2.135349\n",
      "Train Epoch: 7 [32000/50000 (64%)]\tLoss: 2.016222\n",
      "Train Epoch: 7 [48000/50000 (96%)]\tLoss: 2.165789\n",
      "\n",
      "Training set: Accuracy: 14102/50000 (28%)\n",
      "Test set: Accuracy: 3573/10000 (36%)\n",
      "\n",
      "Train Epoch: 8 [0/50000 (0%)]\tLoss: 2.108177\n",
      "Train Epoch: 8 [16000/50000 (32%)]\tLoss: 2.068086\n",
      "Train Epoch: 8 [32000/50000 (64%)]\tLoss: 2.101458\n",
      "Train Epoch: 8 [48000/50000 (96%)]\tLoss: 2.161274\n",
      "\n",
      "Training set: Accuracy: 14232/50000 (28%)\n",
      "Test set: Accuracy: 3515/10000 (35%)\n",
      "\n",
      "Train Epoch: 9 [0/50000 (0%)]\tLoss: 1.999599\n",
      "Train Epoch: 9 [16000/50000 (32%)]\tLoss: 1.952134\n",
      "Train Epoch: 9 [32000/50000 (64%)]\tLoss: 2.091378\n",
      "Train Epoch: 9 [48000/50000 (96%)]\tLoss: 2.000161\n",
      "\n",
      "Training set: Accuracy: 14245/50000 (28%)\n",
      "Test set: Accuracy: 3515/10000 (35%)\n",
      "\n",
      "Train Epoch: 10 [0/50000 (0%)]\tLoss: 1.972778\n",
      "Train Epoch: 10 [16000/50000 (32%)]\tLoss: 2.001825\n",
      "Train Epoch: 10 [32000/50000 (64%)]\tLoss: 2.065321\n",
      "Train Epoch: 10 [48000/50000 (96%)]\tLoss: 2.101965\n",
      "\n",
      "Training set: Accuracy: 14178/50000 (28%)\n",
      "Test set: Accuracy: 3528/10000 (35%)\n",
      "\n",
      "Train Epoch: 11 [0/50000 (0%)]\tLoss: 2.002743\n",
      "Train Epoch: 11 [16000/50000 (32%)]\tLoss: 2.124570\n",
      "Train Epoch: 11 [32000/50000 (64%)]\tLoss: 2.175939\n",
      "Train Epoch: 11 [48000/50000 (96%)]\tLoss: 2.163173\n",
      "\n",
      "Training set: Accuracy: 14251/50000 (29%)\n",
      "Test set: Accuracy: 3553/10000 (36%)\n",
      "\n",
      "Train Epoch: 12 [0/50000 (0%)]\tLoss: 1.942796\n",
      "Train Epoch: 12 [16000/50000 (32%)]\tLoss: 2.077870\n",
      "Train Epoch: 12 [32000/50000 (64%)]\tLoss: 1.935044\n",
      "Train Epoch: 12 [48000/50000 (96%)]\tLoss: 2.259053\n",
      "\n",
      "Training set: Accuracy: 14286/50000 (29%)\n",
      "Test set: Accuracy: 3540/10000 (35%)\n",
      "\n",
      "Train Epoch: 13 [0/50000 (0%)]\tLoss: 2.006186\n",
      "Train Epoch: 13 [16000/50000 (32%)]\tLoss: 2.170844\n",
      "Train Epoch: 13 [32000/50000 (64%)]\tLoss: 2.236661\n",
      "Train Epoch: 13 [48000/50000 (96%)]\tLoss: 2.015814\n",
      "\n",
      "Training set: Accuracy: 14487/50000 (29%)\n",
      "Test set: Accuracy: 3637/10000 (36%)\n",
      "\n",
      "Train Epoch: 14 [0/50000 (0%)]\tLoss: 2.301320\n",
      "Train Epoch: 14 [16000/50000 (32%)]\tLoss: 2.012695\n",
      "Train Epoch: 14 [32000/50000 (64%)]\tLoss: 2.139509\n",
      "Train Epoch: 14 [48000/50000 (96%)]\tLoss: 2.108517\n",
      "\n",
      "Training set: Accuracy: 14334/50000 (29%)\n",
      "Test set: Accuracy: 3586/10000 (36%)\n",
      "\n",
      "Train Epoch: 15 [0/50000 (0%)]\tLoss: 2.055090\n",
      "Train Epoch: 15 [16000/50000 (32%)]\tLoss: 2.270802\n",
      "Train Epoch: 15 [32000/50000 (64%)]\tLoss: 1.979896\n",
      "Train Epoch: 15 [48000/50000 (96%)]\tLoss: 1.871266\n",
      "\n",
      "Training set: Accuracy: 14376/50000 (29%)\n",
      "Test set: Accuracy: 3620/10000 (36%)\n",
      "\n",
      "Train Epoch: 16 [0/50000 (0%)]\tLoss: 1.855521\n",
      "Train Epoch: 16 [16000/50000 (32%)]\tLoss: 2.232876\n",
      "Train Epoch: 16 [32000/50000 (64%)]\tLoss: 2.141159\n",
      "Train Epoch: 16 [48000/50000 (96%)]\tLoss: 2.021185\n",
      "\n",
      "Training set: Accuracy: 14439/50000 (29%)\n",
      "Test set: Accuracy: 3555/10000 (36%)\n",
      "\n",
      "Train Epoch: 17 [0/50000 (0%)]\tLoss: 2.156831\n",
      "Train Epoch: 17 [16000/50000 (32%)]\tLoss: 2.247893\n",
      "Train Epoch: 17 [32000/50000 (64%)]\tLoss: 2.027518\n",
      "Train Epoch: 17 [48000/50000 (96%)]\tLoss: 2.233081\n",
      "\n",
      "Training set: Accuracy: 14340/50000 (29%)\n",
      "Test set: Accuracy: 3576/10000 (36%)\n",
      "\n",
      "Train Epoch: 18 [0/50000 (0%)]\tLoss: 2.240882\n",
      "Train Epoch: 18 [16000/50000 (32%)]\tLoss: 2.165182\n",
      "Train Epoch: 18 [32000/50000 (64%)]\tLoss: 2.082865\n",
      "Train Epoch: 18 [48000/50000 (96%)]\tLoss: 2.028575\n",
      "\n",
      "Training set: Accuracy: 14469/50000 (29%)\n",
      "Test set: Accuracy: 3567/10000 (36%)\n",
      "\n",
      "Train Epoch: 19 [0/50000 (0%)]\tLoss: 2.049327\n",
      "Train Epoch: 19 [16000/50000 (32%)]\tLoss: 2.216952\n",
      "Train Epoch: 19 [32000/50000 (64%)]\tLoss: 2.112726\n",
      "Train Epoch: 19 [48000/50000 (96%)]\tLoss: 2.043209\n",
      "\n",
      "Training set: Accuracy: 14392/50000 (29%)\n",
      "Test set: Accuracy: 3585/10000 (36%)\n",
      "\n"
     ]
    }
   ],
   "source": [
    "network2 = Model_2()\n",
    "rlt_const2 = training(network2, 0.01)"
   ]
  },
  {
   "cell_type": "markdown",
   "id": "5480845d",
   "metadata": {},
   "source": [
    "# 8.학습 결과 보기 \n",
    "## loss와 Accuracy 값 비교"
   ]
  },
  {
   "cell_type": "code",
   "execution_count": 16,
   "id": "8d65ae99",
   "metadata": {},
   "outputs": [],
   "source": [
    "def show_rlt(rlt,title):\n",
    "    fig = plt.figure(figsize=(15,5))\n",
    "\n",
    "    fig.suptitle(title)\n",
    "    ax1 = fig.add_subplot(121)\n",
    "    ax2 = fig.add_subplot(122)\n",
    "\n",
    "    x = np.arange(1,21)\n",
    "  \n",
    "    ax1.plot(x,rlt[0], x,rlt[1])\n",
    "    ax1.legend(['training', 'test'])\n",
    "    ax1.set_xlabel('Epoches --->')\n",
    "    ax1.set_ylabel('Loss --->')\n",
    "    ax1.set_xlim([0,21])\n",
    "    \n",
    "    ax2.plot(x,rlt[2],x,rlt[3])\n",
    "    ax2.legend(['training', 'test'])\n",
    "    ax2.set_xlabel('Epoches --->')\n",
    "    ax2.set_ylabel('Accuracy --->')\n",
    "    ax2.set_xlim([0,21])\n",
    "\n",
    "    plt.show()"
   ]
  },
  {
   "cell_type": "code",
   "execution_count": 17,
   "id": "a9308ece",
   "metadata": {},
   "outputs": [
    {
     "data": {
      "image/png": "[encoded data removed]",
      "text/plain": [
       "<Figure size 1080x360 with 2 Axes>"
      ]
     },
     "metadata": {
      "needs_background": "light"
     },
     "output_type": "display_data"
    }
   ],
   "source": [
    "show_rlt(rlt_const, 'Batch_Normalization')"
   ]
  },
  {
   "cell_type": "code",
   "execution_count": 18,
   "id": "566d0de1",
   "metadata": {},
   "outputs": [
    {
     "data": {
      "image/png": "[encoded data removed]",
      "text/plain": [
       "<Figure size 1080x360 with 2 Axes>"
      ]
     },
     "metadata": {
      "needs_background": "light"
     },
     "output_type": "display_data"
    }
   ],
   "source": [
    "show_rlt(rlt_const2, 'Dropout')"
   ]
  },
  {
   "cell_type": "markdown",
   "id": "fd1beff5",
   "metadata": {},
   "source": [
    "# 9. Hyperparameter 찾기\n",
    "\n",
    "위 Dropout 모델의 최적의 learning rate를 찾으세요.\n",
    "\n",
    "스스로 계획을 짜고 어떤 lr 이 가장 나은 성능을 내었는지 분석하세요."
   ]
  },
  {
   "cell_type": "markdown",
   "id": "fcf7a5a7",
   "metadata": {},
   "source": [
    "초기값으로 설정된 0.05를 기준으로 학습을 시킨 후, learning rate를 높여보고 정확도가 감소하면 반대 방향으로 learning rate를 설정하는 것로 한다.\n",
    "\n",
    "1. 0.05 일 때, train accuracy는 30%, test accuracy는 39%가 나왔다. (다음 학습은 위에서 설정한대로 learning rate를 0.1로 높이고 학습을 시킨다.)\n",
    "2. 0.1 일 때, train accuracy는 22%, test accuracy는 29%로 정확도가 감소하여 learning rate를 반대 반향으로 설정한다.\n",
    "3. 0.01 일 때, train accuracy는 36%, test accuracy는 44%가 나왔다.\n",
    "4. 0.005 일 때, train accuracy는 37%, test accuracy는 44%가 나왔다.\n",
    "(위 정확도는 여러 학습 결과 중 하나입니다. 7번에 있는 정확도 와는 다소 차이가 있습니다)\n",
    "\n",
    "\n",
    "학습을 시켜본 결과, 0.01 이후로 유의미한 차이가 없으므로 최적의 learning rate는 0.01이라고 할 수 있다."
   ]
  },
  {
   "cell_type": "code",
   "execution_count": null,
   "id": "177407a1",
   "metadata": {},
   "outputs": [],
   "source": []
  }
 ],
 "metadata": {
  "kernelspec": {
   "display_name": "Python 3 (ipykernel)",
   "language": "python",
   "name": "python3"
  },
  "language_info": {
   "codemirror_mode": {
    "name": "ipython",
    "version": 3
   },
   "file_extension": ".py",
   "mimetype": "text/x-python",
   "name": "python",
   "nbconvert_exporter": "python",
   "pygments_lexer": "ipython3",
   "version": "3.9.7"
  }
 },
 "nbformat": 4,
 "nbformat_minor": 5
}
